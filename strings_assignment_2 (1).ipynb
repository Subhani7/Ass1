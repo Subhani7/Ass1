{
  "nbformat": 4,
  "nbformat_minor": 0,
  "metadata": {
    "colab": {
      "provenance": [],
      "toc_visible": true
    },
    "kernelspec": {
      "name": "python3",
      "display_name": "Python 3"
    },
    "language_info": {
      "name": "python"
    }
  },
  "cells": [
    {
      "cell_type": "markdown",
      "source": [
        "## Strings Assignment 2"
      ],
      "metadata": {
        "id": "EPGLodluvWuN"
      }
    },
    {
      "cell_type": "markdown",
      "source": [
        "1.Write a Python program to reverse a string.\n",
        "\n",
        "input : hellohowareyoudoingandhowisyourhealth"
      ],
      "metadata": {
        "id": "ddM5gMtivkoi"
      }
    },
    {
      "cell_type": "code",
      "source": [
        "txt = \"Hello World\"[::-1]\n",
        "print(txt)"
      ],
      "metadata": {
        "id": "RnP576ZZvtLH",
        "colab": {
          "base_uri": "https://localhost:8080/"
        },
        "outputId": "ad85a748-ac69-4668-e232-6897f45df774"
      },
      "execution_count": 1,
      "outputs": [
        {
          "output_type": "stream",
          "name": "stdout",
          "text": [
            "dlroW olleH\n"
          ]
        }
      ]
    },
    {
      "cell_type": "markdown",
      "source": [
        "2.Write a Python program to capitalize the first letter of each word in a sentence.\n",
        "\n",
        "input : hello welcome to internship"
      ],
      "metadata": {
        "id": "jEVFoo3evnhr"
      }
    },
    {
      "cell_type": "code",
      "source": [
        "s1 = \"hello world!\"\n",
        "\n",
        "s2 = ' '.join(word.capitalize() for word in s1.split())\n",
        "\n",
        "print(s2)"
      ],
      "metadata": {
        "id": "CTP3QwiGwT93",
        "colab": {
          "base_uri": "https://localhost:8080/"
        },
        "outputId": "ab7e0b7a-f397-4312-954c-f773f7227953"
      },
      "execution_count": 2,
      "outputs": [
        {
          "output_type": "stream",
          "name": "stdout",
          "text": [
            "Hello World!\n"
          ]
        }
      ]
    },
    {
      "cell_type": "markdown",
      "source": [
        "3.Write a Python program to find the longest word in a sentence.\n",
        "\n",
        "input : \"he is very good at painting and paint good sketches\""
      ],
      "metadata": {
        "id": "LiGvyCoVvnyC"
      }
    },
    {
      "cell_type": "code",
      "source": [
        "s = \"I am learning Python programming language\"\n",
        "\n",
        "# Split the sentence into words\n",
        "words = s.split()\n",
        "\n",
        "# Find the longest word\n",
        "res = max(words, key=len)\n",
        "\n",
        "print(res)"
      ],
      "metadata": {
        "id": "clATuC3cwwPI",
        "colab": {
          "base_uri": "https://localhost:8080/"
        },
        "outputId": "89cbbde0-733c-4266-ccdb-bbf88689e718"
      },
      "execution_count": 3,
      "outputs": [
        {
          "output_type": "stream",
          "name": "stdout",
          "text": [
            "programming\n"
          ]
        }
      ]
    },
    {
      "cell_type": "markdown",
      "source": [
        "4.Write a Python program to find the length of the last word in a sentence.\n",
        "\n",
        "input : this is the most beautiful beach I ever visited"
      ],
      "metadata": {
        "id": "-QhCplQjvn0w"
      }
    },
    {
      "cell_type": "code",
      "source": [
        "def lengthOfLastWord(a):\n",
        "    l = 0\n",
        "\n",
        "    # String a is 'final'-- can not be modified\n",
        "    # So, create a copy and trim the spaces from\n",
        "    # both sides\n",
        "    x = a.strip()\n",
        "\n",
        "    for i in range(len(x)):\n",
        "        if x[i] == \" \":\n",
        "            l = 0\n",
        "        else:\n",
        "            l += 1\n",
        "    return l"
      ],
      "metadata": {
        "id": "QwzbahlkxGZ-"
      },
      "execution_count": 4,
      "outputs": []
    },
    {
      "cell_type": "markdown",
      "source": [
        "5.Write a Python program to find the second most frequent character in a string.\n",
        "\n",
        "input: the hospital is very big and this hospital has so many doctors"
      ],
      "metadata": {
        "id": "cZiXxZhsvn6q"
      }
    },
    {
      "cell_type": "code",
      "source": [
        "def getSecondMostFreq(str) :\n",
        "\n",
        "    NO_OF_CHARS = 256\n",
        "\n",
        "    # Initialize count list of\n",
        "    # 256 size with value 0\n",
        "    count = [0] * NO_OF_CHARS\n",
        "\n",
        "    # count number of occurrences\n",
        "    # of every character.\n",
        "    for i in range(len(str)) :\n",
        "        count[ord(str[i])] += 1\n",
        "\n",
        "    first, second = 0, 0\n",
        "\n",
        "    # Traverse through the count[]\n",
        "    # and find second highest element.\n",
        "    for i in range(NO_OF_CHARS) :\n",
        "\n",
        "        # If current element is smaller\n",
        "        # than first then update both\n",
        "        # first and second\n",
        "        if count[i] > count[first] :\n",
        "\n",
        "            second = first\n",
        "            first = i\n",
        "\n",
        "        # If count[i] is in between\n",
        "        # first and second\n",
        "        # then update second */\n",
        "        elif (count[i] > count[second] and\n",
        "            count[i] != count[first] ) :\n",
        "\n",
        "            second = i\n",
        "\n",
        "    # return character\n",
        "    return chr(second)\n"
      ],
      "metadata": {
        "id": "EnHquuoCxi7F"
      },
      "execution_count": 5,
      "outputs": []
    }
  ]
}